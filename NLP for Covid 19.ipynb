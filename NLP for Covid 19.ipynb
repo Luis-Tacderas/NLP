{
 "cells": [
  {
   "cell_type": "code",
   "execution_count": 119,
   "id": "71548bba",
   "metadata": {},
   "outputs": [
    {
     "name": "stderr",
     "output_type": "stream",
     "text": [
      "[nltk_data] Downloading package stopwords to C:\\Users\\louie.LAURENCE-\n",
      "[nltk_data]     LAPTOP\\AppData\\Roaming\\nltk_data...\n",
      "[nltk_data]   Package stopwords is already up-to-date!\n"
     ]
    },
    {
     "data": {
      "text/plain": [
       "True"
      ]
     },
     "execution_count": 119,
     "metadata": {},
     "output_type": "execute_result"
    }
   ],
   "source": [
    "# https://www.kaggle.com/itratrahman/nlp-tutorial-using-python\n",
    "import numpy as np\n",
    "import pandas as pd\n",
    "import string\n",
    "\n",
    "# include first time if not downloaded\n",
    "import nltk\n",
    "nltk.download('stopwords')\n",
    "\n",
    "# pip install nltk\n",
    "\n",
    "#import nltk\n",
    "#from nltk.corpus import stopwords"
   ]
  },
  {
   "cell_type": "code",
   "execution_count": 120,
   "id": "f7da6083",
   "metadata": {},
   "outputs": [],
   "source": [
    "# Reading the data from Order Narrative,Result Comment, Impression and Completed Results Clarity Tables\n",
    "# This file has unicode encoding thus needing encoding parm\n",
    "\n",
    "df_patients        = pd.read_csv(\"C:/Users/louie.LAURENCE-LAPTOP/Documents/Jupyter Notebook/identified_patients.csv\",encoding=\"latin1\")\n",
    "\n",
    "df_patient_notes   = pd.read_csv(\"C:/Users/louie.LAURENCE-LAPTOP/Documents/Jupyter Notebook/patient_notes.csv\",encoding=\"latin1\")"
   ]
  },
  {
   "cell_type": "code",
   "execution_count": 121,
   "id": "12898951",
   "metadata": {},
   "outputs": [
    {
     "data": {
      "text/html": [
       "<div>\n",
       "<style scoped>\n",
       "    .dataframe tbody tr th:only-of-type {\n",
       "        vertical-align: middle;\n",
       "    }\n",
       "\n",
       "    .dataframe tbody tr th {\n",
       "        vertical-align: top;\n",
       "    }\n",
       "\n",
       "    .dataframe thead th {\n",
       "        text-align: right;\n",
       "    }\n",
       "</style>\n",
       "<table border=\"1\" class=\"dataframe\">\n",
       "  <thead>\n",
       "    <tr style=\"text-align: right;\">\n",
       "      <th></th>\n",
       "      <th>Patient_Number</th>\n",
       "    </tr>\n",
       "  </thead>\n",
       "  <tbody>\n",
       "    <tr>\n",
       "      <th>0</th>\n",
       "      <td>12345</td>\n",
       "    </tr>\n",
       "    <tr>\n",
       "      <th>1</th>\n",
       "      <td>23456</td>\n",
       "    </tr>\n",
       "    <tr>\n",
       "      <th>2</th>\n",
       "      <td>34567</td>\n",
       "    </tr>\n",
       "    <tr>\n",
       "      <th>3</th>\n",
       "      <td>45678</td>\n",
       "    </tr>\n",
       "    <tr>\n",
       "      <th>4</th>\n",
       "      <td>56789</td>\n",
       "    </tr>\n",
       "    <tr>\n",
       "      <th>5</th>\n",
       "      <td>56999</td>\n",
       "    </tr>\n",
       "    <tr>\n",
       "      <th>6</th>\n",
       "      <td>60000</td>\n",
       "    </tr>\n",
       "  </tbody>\n",
       "</table>\n",
       "</div>"
      ],
      "text/plain": [
       "   Patient_Number\n",
       "0           12345\n",
       "1           23456\n",
       "2           34567\n",
       "3           45678\n",
       "4           56789\n",
       "5           56999\n",
       "6           60000"
      ]
     },
     "execution_count": 121,
     "metadata": {},
     "output_type": "execute_result"
    }
   ],
   "source": [
    "# Display patientds df\n",
    "df_patients"
   ]
  },
  {
   "cell_type": "code",
   "execution_count": 122,
   "id": "6a91945e",
   "metadata": {},
   "outputs": [],
   "source": [
    "# drop NaN\n",
    "df_patient_notes   = df_patient_notes.dropna(subset=['Appointment Notes'])"
   ]
  },
  {
   "cell_type": "code",
   "execution_count": 123,
   "id": "ef99b05d",
   "metadata": {},
   "outputs": [
    {
     "data": {
      "text/html": [
       "<div>\n",
       "<style scoped>\n",
       "    .dataframe tbody tr th:only-of-type {\n",
       "        vertical-align: middle;\n",
       "    }\n",
       "\n",
       "    .dataframe tbody tr th {\n",
       "        vertical-align: top;\n",
       "    }\n",
       "\n",
       "    .dataframe thead th {\n",
       "        text-align: right;\n",
       "    }\n",
       "</style>\n",
       "<table border=\"1\" class=\"dataframe\">\n",
       "  <thead>\n",
       "    <tr style=\"text-align: right;\">\n",
       "      <th></th>\n",
       "      <th>Patient_Number</th>\n",
       "      <th>Appointment_Date</th>\n",
       "      <th>Appointment Notes</th>\n",
       "    </tr>\n",
       "  </thead>\n",
       "  <tbody>\n",
       "    <tr>\n",
       "      <th>1</th>\n",
       "      <td>23456</td>\n",
       "      <td>01/23/2001</td>\n",
       "      <td>#1. Fasting Blood Sugar</td>\n",
       "    </tr>\n",
       "    <tr>\n",
       "      <th>2</th>\n",
       "      <td>23456</td>\n",
       "      <td>01/23/2001</td>\n",
       "      <td>He is having Chills</td>\n",
       "    </tr>\n",
       "    <tr>\n",
       "      <th>3</th>\n",
       "      <td>23456</td>\n",
       "      <td>01/23/2001</td>\n",
       "      <td>Nausea</td>\n",
       "    </tr>\n",
       "    <tr>\n",
       "      <th>4</th>\n",
       "      <td>34567</td>\n",
       "      <td>02/27/2001</td>\n",
       "      <td>He has a very Sore Throat</td>\n",
       "    </tr>\n",
       "    <tr>\n",
       "      <th>6</th>\n",
       "      <td>45678</td>\n",
       "      <td>02/28/2001</td>\n",
       "      <td>Her fever is really high</td>\n",
       "    </tr>\n",
       "    <tr>\n",
       "      <th>7</th>\n",
       "      <td>45678</td>\n",
       "      <td>02/28/2001</td>\n",
       "      <td>Could not sleep due to chills</td>\n",
       "    </tr>\n",
       "    <tr>\n",
       "      <th>8</th>\n",
       "      <td>45678</td>\n",
       "      <td>02/28/2001</td>\n",
       "      <td>#5. Lipid panel</td>\n",
       "    </tr>\n",
       "  </tbody>\n",
       "</table>\n",
       "</div>"
      ],
      "text/plain": [
       "   Patient_Number Appointment_Date              Appointment Notes\n",
       "1           23456       01/23/2001        #1. Fasting Blood Sugar\n",
       "2           23456       01/23/2001           He is having Chills \n",
       "3           23456       01/23/2001                         Nausea\n",
       "4           34567       02/27/2001      He has a very Sore Throat\n",
       "6           45678       02/28/2001       Her fever is really high\n",
       "7           45678       02/28/2001  Could not sleep due to chills\n",
       "8           45678       02/28/2001                #5. Lipid panel"
      ]
     },
     "execution_count": 123,
     "metadata": {},
     "output_type": "execute_result"
    }
   ],
   "source": [
    "df_patient_notes"
   ]
  },
  {
   "cell_type": "code",
   "execution_count": 124,
   "id": "f6f5158e",
   "metadata": {},
   "outputs": [],
   "source": [
    "# Remove Numbers \n",
    "df_patient_notes['Appointment Notes']  = df_patient_notes['Appointment Notes'].replace('\\d+', '', regex=True)"
   ]
  },
  {
   "cell_type": "code",
   "execution_count": 125,
   "id": "d109c42d",
   "metadata": {},
   "outputs": [
    {
     "data": {
      "text/html": [
       "<div>\n",
       "<style scoped>\n",
       "    .dataframe tbody tr th:only-of-type {\n",
       "        vertical-align: middle;\n",
       "    }\n",
       "\n",
       "    .dataframe tbody tr th {\n",
       "        vertical-align: top;\n",
       "    }\n",
       "\n",
       "    .dataframe thead th {\n",
       "        text-align: right;\n",
       "    }\n",
       "</style>\n",
       "<table border=\"1\" class=\"dataframe\">\n",
       "  <thead>\n",
       "    <tr style=\"text-align: right;\">\n",
       "      <th></th>\n",
       "      <th>Patient_Number</th>\n",
       "      <th>Appointment_Date</th>\n",
       "      <th>Appointment Notes</th>\n",
       "    </tr>\n",
       "  </thead>\n",
       "  <tbody>\n",
       "    <tr>\n",
       "      <th>1</th>\n",
       "      <td>23456</td>\n",
       "      <td>01/23/2001</td>\n",
       "      <td>#. Fasting Blood Sugar</td>\n",
       "    </tr>\n",
       "    <tr>\n",
       "      <th>2</th>\n",
       "      <td>23456</td>\n",
       "      <td>01/23/2001</td>\n",
       "      <td>He is having Chills</td>\n",
       "    </tr>\n",
       "    <tr>\n",
       "      <th>3</th>\n",
       "      <td>23456</td>\n",
       "      <td>01/23/2001</td>\n",
       "      <td>Nausea</td>\n",
       "    </tr>\n",
       "    <tr>\n",
       "      <th>4</th>\n",
       "      <td>34567</td>\n",
       "      <td>02/27/2001</td>\n",
       "      <td>He has a very Sore Throat</td>\n",
       "    </tr>\n",
       "    <tr>\n",
       "      <th>6</th>\n",
       "      <td>45678</td>\n",
       "      <td>02/28/2001</td>\n",
       "      <td>Her fever is really high</td>\n",
       "    </tr>\n",
       "    <tr>\n",
       "      <th>7</th>\n",
       "      <td>45678</td>\n",
       "      <td>02/28/2001</td>\n",
       "      <td>Could not sleep due to chills</td>\n",
       "    </tr>\n",
       "    <tr>\n",
       "      <th>8</th>\n",
       "      <td>45678</td>\n",
       "      <td>02/28/2001</td>\n",
       "      <td>#. Lipid panel</td>\n",
       "    </tr>\n",
       "  </tbody>\n",
       "</table>\n",
       "</div>"
      ],
      "text/plain": [
       "   Patient_Number Appointment_Date              Appointment Notes\n",
       "1           23456       01/23/2001         #. Fasting Blood Sugar\n",
       "2           23456       01/23/2001           He is having Chills \n",
       "3           23456       01/23/2001                         Nausea\n",
       "4           34567       02/27/2001      He has a very Sore Throat\n",
       "6           45678       02/28/2001       Her fever is really high\n",
       "7           45678       02/28/2001  Could not sleep due to chills\n",
       "8           45678       02/28/2001                 #. Lipid panel"
      ]
     },
     "execution_count": 125,
     "metadata": {},
     "output_type": "execute_result"
    }
   ],
   "source": [
    "df_patient_notes"
   ]
  },
  {
   "cell_type": "code",
   "execution_count": 126,
   "id": "a6a73492",
   "metadata": {},
   "outputs": [],
   "source": [
    "# Function to remove punctuation\n",
    "def remove_punctuation(text):\n",
    "    # replacing the punctuations with no space, \n",
    "    # which in effect deletes the punctuation marks \n",
    "    translator = str.maketrans('', '', string.punctuation)\n",
    "    # return the text stripped of punctuation marks\n",
    "    return text.translate(translator)"
   ]
  },
  {
   "cell_type": "code",
   "execution_count": 127,
   "id": "0bc15a4e",
   "metadata": {},
   "outputs": [],
   "source": [
    "# Apply Remove Punctuation Function to df\n",
    "df_patient_notes['Appointment Notes']   = df_patient_notes['Appointment Notes'].apply(remove_punctuation)"
   ]
  },
  {
   "cell_type": "code",
   "execution_count": 128,
   "id": "c283d367",
   "metadata": {},
   "outputs": [
    {
     "data": {
      "text/html": [
       "<div>\n",
       "<style scoped>\n",
       "    .dataframe tbody tr th:only-of-type {\n",
       "        vertical-align: middle;\n",
       "    }\n",
       "\n",
       "    .dataframe tbody tr th {\n",
       "        vertical-align: top;\n",
       "    }\n",
       "\n",
       "    .dataframe thead th {\n",
       "        text-align: right;\n",
       "    }\n",
       "</style>\n",
       "<table border=\"1\" class=\"dataframe\">\n",
       "  <thead>\n",
       "    <tr style=\"text-align: right;\">\n",
       "      <th></th>\n",
       "      <th>Patient_Number</th>\n",
       "      <th>Appointment_Date</th>\n",
       "      <th>Appointment Notes</th>\n",
       "    </tr>\n",
       "  </thead>\n",
       "  <tbody>\n",
       "    <tr>\n",
       "      <th>1</th>\n",
       "      <td>23456</td>\n",
       "      <td>01/23/2001</td>\n",
       "      <td>Fasting Blood Sugar</td>\n",
       "    </tr>\n",
       "    <tr>\n",
       "      <th>2</th>\n",
       "      <td>23456</td>\n",
       "      <td>01/23/2001</td>\n",
       "      <td>He is having Chills</td>\n",
       "    </tr>\n",
       "    <tr>\n",
       "      <th>3</th>\n",
       "      <td>23456</td>\n",
       "      <td>01/23/2001</td>\n",
       "      <td>Nausea</td>\n",
       "    </tr>\n",
       "    <tr>\n",
       "      <th>4</th>\n",
       "      <td>34567</td>\n",
       "      <td>02/27/2001</td>\n",
       "      <td>He has a very Sore Throat</td>\n",
       "    </tr>\n",
       "    <tr>\n",
       "      <th>6</th>\n",
       "      <td>45678</td>\n",
       "      <td>02/28/2001</td>\n",
       "      <td>Her fever is really high</td>\n",
       "    </tr>\n",
       "    <tr>\n",
       "      <th>7</th>\n",
       "      <td>45678</td>\n",
       "      <td>02/28/2001</td>\n",
       "      <td>Could not sleep due to chills</td>\n",
       "    </tr>\n",
       "    <tr>\n",
       "      <th>8</th>\n",
       "      <td>45678</td>\n",
       "      <td>02/28/2001</td>\n",
       "      <td>Lipid panel</td>\n",
       "    </tr>\n",
       "  </tbody>\n",
       "</table>\n",
       "</div>"
      ],
      "text/plain": [
       "   Patient_Number Appointment_Date              Appointment Notes\n",
       "1           23456       01/23/2001            Fasting Blood Sugar\n",
       "2           23456       01/23/2001           He is having Chills \n",
       "3           23456       01/23/2001                         Nausea\n",
       "4           34567       02/27/2001      He has a very Sore Throat\n",
       "6           45678       02/28/2001       Her fever is really high\n",
       "7           45678       02/28/2001  Could not sleep due to chills\n",
       "8           45678       02/28/2001                    Lipid panel"
      ]
     },
     "execution_count": 128,
     "metadata": {},
     "output_type": "execute_result"
    }
   ],
   "source": [
    "df_patient_notes"
   ]
  },
  {
   "cell_type": "code",
   "execution_count": 129,
   "id": "2c8a29af",
   "metadata": {},
   "outputs": [],
   "source": [
    "# Convert to lower case\n",
    "# https://pandas.pydata.org/docs/reference/api/pandas.Series.str.lower.html\n",
    "\n",
    "df_patient_notes['Appointment Notes']   = df_patient_notes['Appointment Notes'].str.lower()"
   ]
  },
  {
   "cell_type": "code",
   "execution_count": 130,
   "id": "da08fc24",
   "metadata": {},
   "outputs": [
    {
     "data": {
      "text/html": [
       "<div>\n",
       "<style scoped>\n",
       "    .dataframe tbody tr th:only-of-type {\n",
       "        vertical-align: middle;\n",
       "    }\n",
       "\n",
       "    .dataframe tbody tr th {\n",
       "        vertical-align: top;\n",
       "    }\n",
       "\n",
       "    .dataframe thead th {\n",
       "        text-align: right;\n",
       "    }\n",
       "</style>\n",
       "<table border=\"1\" class=\"dataframe\">\n",
       "  <thead>\n",
       "    <tr style=\"text-align: right;\">\n",
       "      <th></th>\n",
       "      <th>Patient_Number</th>\n",
       "      <th>Appointment_Date</th>\n",
       "      <th>Appointment Notes</th>\n",
       "    </tr>\n",
       "  </thead>\n",
       "  <tbody>\n",
       "    <tr>\n",
       "      <th>1</th>\n",
       "      <td>23456</td>\n",
       "      <td>01/23/2001</td>\n",
       "      <td>fasting blood sugar</td>\n",
       "    </tr>\n",
       "    <tr>\n",
       "      <th>2</th>\n",
       "      <td>23456</td>\n",
       "      <td>01/23/2001</td>\n",
       "      <td>he is having chills</td>\n",
       "    </tr>\n",
       "  </tbody>\n",
       "</table>\n",
       "</div>"
      ],
      "text/plain": [
       "   Patient_Number Appointment_Date     Appointment Notes\n",
       "1           23456       01/23/2001   fasting blood sugar\n",
       "2           23456       01/23/2001  he is having chills "
      ]
     },
     "execution_count": 130,
     "metadata": {},
     "output_type": "execute_result"
    }
   ],
   "source": [
    "# Displaying the head of the df\n",
    "df_patient_notes.head(2)"
   ]
  },
  {
   "cell_type": "code",
   "execution_count": 131,
   "id": "1eefd092",
   "metadata": {},
   "outputs": [],
   "source": [
    "# Removing stopwords"
   ]
  },
  {
   "cell_type": "code",
   "execution_count": 132,
   "id": "514f1c20",
   "metadata": {},
   "outputs": [
    {
     "data": {
      "text/plain": [
       "array(['i', 'me', 'my', 'myself', 'we', 'our', 'ours', 'ourselves', 'you',\n",
       "       \"you're\", \"you've\", \"you'll\", \"you'd\", 'your', 'yours', 'yourself',\n",
       "       'yourselves', 'he', 'him', 'his', 'himself', 'she', \"she's\", 'her',\n",
       "       'hers', 'herself', 'it', \"it's\", 'its', 'itself', 'they', 'them',\n",
       "       'their', 'theirs', 'themselves', 'what', 'which', 'who', 'whom',\n",
       "       'this', 'that', \"that'll\", 'these', 'those', 'am', 'is', 'are',\n",
       "       'was', 'were', 'be', 'been', 'being', 'have', 'has', 'had',\n",
       "       'having', 'do', 'does', 'did', 'doing', 'a', 'an', 'the', 'and',\n",
       "       'but', 'if', 'or', 'because', 'as', 'until', 'while', 'of', 'at',\n",
       "       'by', 'for', 'with', 'about', 'against', 'between', 'into',\n",
       "       'through', 'during', 'before', 'after', 'above', 'below', 'to',\n",
       "       'from', 'up', 'down', 'in', 'out', 'on', 'off', 'over', 'under',\n",
       "       'again', 'further', 'then', 'once', 'here', 'there', 'when',\n",
       "       'where', 'why', 'how', 'all', 'any', 'both', 'each', 'few', 'more',\n",
       "       'most', 'other', 'some', 'such', 'no', 'nor', 'not', 'only', 'own',\n",
       "       'same', 'so', 'than', 'too', 'very', 's', 't', 'can', 'will',\n",
       "       'just', 'don', \"don't\", 'should', \"should've\", 'now', 'd', 'll',\n",
       "       'm', 'o', 're', 've', 'y', 'ain', 'aren', \"aren't\", 'couldn',\n",
       "       \"couldn't\", 'didn', \"didn't\", 'doesn', \"doesn't\", 'hadn', \"hadn't\",\n",
       "       'hasn', \"hasn't\", 'haven', \"haven't\", 'isn', \"isn't\", 'ma',\n",
       "       'mightn', \"mightn't\", 'mustn', \"mustn't\", 'needn', \"needn't\",\n",
       "       'shan', \"shan't\", 'shouldn', \"shouldn't\", 'wasn', \"wasn't\",\n",
       "       'weren', \"weren't\", 'won', \"won't\", 'wouldn', \"wouldn't\"],\n",
       "      dtype='<U10')"
      ]
     },
     "execution_count": 132,
     "metadata": {},
     "output_type": "execute_result"
    }
   ],
   "source": [
    "# Extract the stop words from nltk library\n",
    "sw = stopwords.words('english')\n",
    "# displaying the stopwords\n",
    "np.array(sw)"
   ]
  },
  {
   "cell_type": "code",
   "execution_count": 133,
   "id": "05a9fbf6",
   "metadata": {},
   "outputs": [
    {
     "name": "stdout",
     "output_type": "stream",
     "text": [
      "Number of stopwords:  179\n"
     ]
    }
   ],
   "source": [
    "# Print stopwords count\n",
    "print(\"Number of stopwords: \", len(sw))"
   ]
  },
  {
   "cell_type": "code",
   "execution_count": 134,
   "id": "b7a66b58",
   "metadata": {},
   "outputs": [],
   "source": [
    "# Function to remove stopwords\n",
    "def func_stopwords(text):\n",
    "    # removing the stop words\n",
    "    text = [word for word in text.split() if word not in sw]\n",
    "    # joining the list of words with space separator\n",
    "    return \" \".join(text)"
   ]
  },
  {
   "cell_type": "code",
   "execution_count": 135,
   "id": "2699659a",
   "metadata": {},
   "outputs": [],
   "source": [
    "# Apply the stopwords function to df\n",
    "df_patient_notes['Appointment Notes']   = df_patient_notes['Appointment Notes'].apply(func_stopwords)"
   ]
  },
  {
   "cell_type": "code",
   "execution_count": 136,
   "id": "2ada2b7e",
   "metadata": {
    "scrolled": true
   },
   "outputs": [
    {
     "data": {
      "text/html": [
       "<div>\n",
       "<style scoped>\n",
       "    .dataframe tbody tr th:only-of-type {\n",
       "        vertical-align: middle;\n",
       "    }\n",
       "\n",
       "    .dataframe tbody tr th {\n",
       "        vertical-align: top;\n",
       "    }\n",
       "\n",
       "    .dataframe thead th {\n",
       "        text-align: right;\n",
       "    }\n",
       "</style>\n",
       "<table border=\"1\" class=\"dataframe\">\n",
       "  <thead>\n",
       "    <tr style=\"text-align: right;\">\n",
       "      <th></th>\n",
       "      <th>Patient_Number</th>\n",
       "      <th>Appointment_Date</th>\n",
       "      <th>Appointment Notes</th>\n",
       "    </tr>\n",
       "  </thead>\n",
       "  <tbody>\n",
       "    <tr>\n",
       "      <th>1</th>\n",
       "      <td>23456</td>\n",
       "      <td>01/23/2001</td>\n",
       "      <td>fasting blood sugar</td>\n",
       "    </tr>\n",
       "    <tr>\n",
       "      <th>2</th>\n",
       "      <td>23456</td>\n",
       "      <td>01/23/2001</td>\n",
       "      <td>chills</td>\n",
       "    </tr>\n",
       "  </tbody>\n",
       "</table>\n",
       "</div>"
      ],
      "text/plain": [
       "   Patient_Number Appointment_Date    Appointment Notes\n",
       "1           23456       01/23/2001  fasting blood sugar\n",
       "2           23456       01/23/2001               chills"
      ]
     },
     "execution_count": 136,
     "metadata": {},
     "output_type": "execute_result"
    }
   ],
   "source": [
    "# Displaying the head of the df\n",
    "df_patient_notes.head(2)"
   ]
  },
  {
   "cell_type": "code",
   "execution_count": 137,
   "id": "f5d7d424",
   "metadata": {},
   "outputs": [],
   "source": [
    "# Find keywords for COVID 19\n",
    "#Whitelist\n",
    "\n",
    "df_patient_notes = df_patient_notes[df_patient_notes['Appointment Notes'].str.contains('fever|chills|cough|shortness breath|difficulty breathing|fatigue|muscle ache|body ache|nausea|headache|new loss taste|new loss smell|sore throat|congestion|runny nose|nausea|vomiting|diarrhea')]"
   ]
  },
  {
   "cell_type": "code",
   "execution_count": 138,
   "id": "b7822b91",
   "metadata": {},
   "outputs": [],
   "source": [
    "# Adjust column width\n",
    "pd.options.display.max_colwidth = 500"
   ]
  },
  {
   "cell_type": "code",
   "execution_count": 139,
   "id": "be2912fb",
   "metadata": {},
   "outputs": [],
   "source": [
    "# Add source column\n",
    "# https://stackoverflow.com/questions/29517072/add-column-to-dataframe-with-constant-value\n",
    "\n",
    "df_patient_notes.insert(0, 'Source', 'Possible COVID 19')\n"
   ]
  },
  {
   "cell_type": "code",
   "execution_count": 140,
   "id": "e8bd313f",
   "metadata": {},
   "outputs": [
    {
     "data": {
      "text/html": [
       "<div>\n",
       "<style scoped>\n",
       "    .dataframe tbody tr th:only-of-type {\n",
       "        vertical-align: middle;\n",
       "    }\n",
       "\n",
       "    .dataframe tbody tr th {\n",
       "        vertical-align: top;\n",
       "    }\n",
       "\n",
       "    .dataframe thead th {\n",
       "        text-align: right;\n",
       "    }\n",
       "</style>\n",
       "<table border=\"1\" class=\"dataframe\">\n",
       "  <thead>\n",
       "    <tr style=\"text-align: right;\">\n",
       "      <th></th>\n",
       "      <th>Source</th>\n",
       "      <th>Patient_Number</th>\n",
       "      <th>Appointment_Date</th>\n",
       "      <th>Appointment Notes</th>\n",
       "    </tr>\n",
       "  </thead>\n",
       "  <tbody>\n",
       "    <tr>\n",
       "      <th>2</th>\n",
       "      <td>Possible COVID 19</td>\n",
       "      <td>23456</td>\n",
       "      <td>01/23/2001</td>\n",
       "      <td>chills</td>\n",
       "    </tr>\n",
       "    <tr>\n",
       "      <th>3</th>\n",
       "      <td>Possible COVID 19</td>\n",
       "      <td>23456</td>\n",
       "      <td>01/23/2001</td>\n",
       "      <td>nausea</td>\n",
       "    </tr>\n",
       "    <tr>\n",
       "      <th>4</th>\n",
       "      <td>Possible COVID 19</td>\n",
       "      <td>34567</td>\n",
       "      <td>02/27/2001</td>\n",
       "      <td>sore throat</td>\n",
       "    </tr>\n",
       "    <tr>\n",
       "      <th>6</th>\n",
       "      <td>Possible COVID 19</td>\n",
       "      <td>45678</td>\n",
       "      <td>02/28/2001</td>\n",
       "      <td>fever really high</td>\n",
       "    </tr>\n",
       "    <tr>\n",
       "      <th>7</th>\n",
       "      <td>Possible COVID 19</td>\n",
       "      <td>45678</td>\n",
       "      <td>02/28/2001</td>\n",
       "      <td>could sleep due chills</td>\n",
       "    </tr>\n",
       "  </tbody>\n",
       "</table>\n",
       "</div>"
      ],
      "text/plain": [
       "              Source  Patient_Number Appointment_Date       Appointment Notes\n",
       "2  Possible COVID 19           23456       01/23/2001                  chills\n",
       "3  Possible COVID 19           23456       01/23/2001                  nausea\n",
       "4  Possible COVID 19           34567       02/27/2001             sore throat\n",
       "6  Possible COVID 19           45678       02/28/2001       fever really high\n",
       "7  Possible COVID 19           45678       02/28/2001  could sleep due chills"
      ]
     },
     "execution_count": 140,
     "metadata": {},
     "output_type": "execute_result"
    }
   ],
   "source": [
    "# Display DF\n",
    "df_patient_notes"
   ]
  },
  {
   "cell_type": "code",
   "execution_count": 141,
   "id": "40e187f1",
   "metadata": {},
   "outputs": [],
   "source": [
    "# Convert to List\n",
    "appt_patient_number_list       = df_patient_notes.Patient_Number.unique().tolist()\n",
    "\n",
    "patient_number_list           = df_patients.Patient_Number.tolist()"
   ]
  },
  {
   "cell_type": "code",
   "execution_count": 142,
   "id": "2ff57c79",
   "metadata": {},
   "outputs": [
    {
     "name": "stdout",
     "output_type": "stream",
     "text": [
      "7\n"
     ]
    }
   ],
   "source": [
    "# Count of 1st 50 mnrs\n",
    "print(len(patient_number_list))"
   ]
  },
  {
   "cell_type": "code",
   "execution_count": 143,
   "id": "43b26297",
   "metadata": {},
   "outputs": [
    {
     "name": "stdout",
     "output_type": "stream",
     "text": [
      "12345\n",
      "23456\n",
      "34567\n",
      "45678\n",
      "56789\n",
      "56999\n",
      "60000\n"
     ]
    }
   ],
   "source": [
    "for Patient_Number in patient_number_list:\n",
    "    print(Patient_Number)"
   ]
  },
  {
   "cell_type": "code",
   "execution_count": 144,
   "id": "9465fc5b",
   "metadata": {},
   "outputs": [],
   "source": [
    "# Scan if pateints not in Covid mrn list\n",
    "# https://stackoverflow.com/questions/17071871/how-do-i-select-rows-from-a-dataframe-based-on-column-values\n",
    "\n",
    "missing_patients = df_patients.loc[~df_patients['Patient_Number'].isin(appt_patient_number_list)]\n",
    "\n",
    "found_patients = df_patients.loc[df_patients['Patient_Number'].isin(appt_patient_number_list)]"
   ]
  },
  {
   "cell_type": "code",
   "execution_count": 145,
   "id": "f9f81b63",
   "metadata": {},
   "outputs": [
    {
     "name": "stdout",
     "output_type": "stream",
     "text": [
      "3\n"
     ]
    }
   ],
   "source": [
    "print(len(found_patients))"
   ]
  },
  {
   "cell_type": "code",
   "execution_count": 148,
   "id": "62e5543d",
   "metadata": {},
   "outputs": [
    {
     "name": "stdout",
     "output_type": "stream",
     "text": [
      "   Patient_Number\n",
      "1           23456\n",
      "2           34567\n",
      "3           45678\n"
     ]
    }
   ],
   "source": [
    "print(found_patients)"
   ]
  },
  {
   "cell_type": "code",
   "execution_count": 149,
   "id": "5d19a192",
   "metadata": {},
   "outputs": [
    {
     "name": "stdout",
     "output_type": "stream",
     "text": [
      "4\n"
     ]
    }
   ],
   "source": [
    "print(len(missing_patients))"
   ]
  },
  {
   "cell_type": "code",
   "execution_count": 150,
   "id": "36115dc1",
   "metadata": {},
   "outputs": [
    {
     "name": "stdout",
     "output_type": "stream",
     "text": [
      "   Patient_Number\n",
      "0           12345\n",
      "4           56789\n",
      "5           56999\n",
      "6           60000\n"
     ]
    }
   ],
   "source": [
    "print(missing_patients)"
   ]
  },
  {
   "cell_type": "code",
   "execution_count": null,
   "id": "0168e5e9",
   "metadata": {},
   "outputs": [],
   "source": []
  }
 ],
 "metadata": {
  "kernelspec": {
   "display_name": "Python 3 (ipykernel)",
   "language": "python",
   "name": "python3"
  },
  "language_info": {
   "codemirror_mode": {
    "name": "ipython",
    "version": 3
   },
   "file_extension": ".py",
   "mimetype": "text/x-python",
   "name": "python",
   "nbconvert_exporter": "python",
   "pygments_lexer": "ipython3",
   "version": "3.10.9"
  }
 },
 "nbformat": 4,
 "nbformat_minor": 5
}
